{
 "cells": [
  {
   "cell_type": "code",
   "execution_count": 50,
   "metadata": {
    "scrolled": false
   },
   "outputs": [
    {
     "name": "stdout",
     "output_type": "stream",
     "text": [
      "Lines: 25\n"
     ]
    }
   ],
   "source": [
    "with open('poem.txt', 'r', encoding='utf-8') as f:\n",
    "    lines = f.readlines()\n",
    "    count = 0\n",
    "    for line in lines:\n",
    "        count+=1 \n",
    "\n",
    "print(\"Lines:\", count)"
   ]
  },
  {
   "cell_type": "code",
   "execution_count": 37,
   "metadata": {},
   "outputs": [
    {
     "name": "stdout",
     "output_type": "stream",
     "text": [
      "Весенний, светлый день клонился к вечеру; небольшие розовые тучки стояли высоко в ясном небе и, каза\n"
     ]
    }
   ],
   "source": [
    "with open('text.txt', 'r', encoding='utf-8') as f: \n",
    "    text = f.read()\n",
    "print(text[:100])"
   ]
  },
  {
   "cell_type": "code",
   "execution_count": 51,
   "metadata": {
    "scrolled": true
   },
   "outputs": [
    {
     "name": "stdout",
     "output_type": "stream",
     "text": [
      "/Users/anastasiavasileva/Desktop/Homeworks/.DS_Store\n",
      "/Users/anastasiavasileva/Desktop/Homeworks/Hello.txt\n",
      "/Users/anastasiavasileva/Desktop/Homeworks/README.md\n",
      "/Users/anastasiavasileva/Desktop/Homeworks/.git/COMMIT_EDITMSG\n",
      "/Users/anastasiavasileva/Desktop/Homeworks/.git/config\n",
      "/Users/anastasiavasileva/Desktop/Homeworks/.git/FETCH_HEAD\n",
      "/Users/anastasiavasileva/Desktop/Homeworks/.git/HEAD\n",
      "/Users/anastasiavasileva/Desktop/Homeworks/.git/index\n",
      "/Users/anastasiavasileva/Desktop/Homeworks/.git/packed-refs\n",
      "/Users/anastasiavasileva/Desktop/Homeworks/.git/sourcetreeconfig\n",
      "/Users/anastasiavasileva/Desktop/Homeworks/.git/logs/HEAD\n",
      "/Users/anastasiavasileva/Desktop/Homeworks/.git/logs/refs/heads/master\n",
      "/Users/anastasiavasileva/Desktop/Homeworks/.git/logs/refs/remotes/origin/HEAD\n",
      "/Users/anastasiavasileva/Desktop/Homeworks/.git/logs/refs/remotes/origin/master\n",
      "/Users/anastasiavasileva/Desktop/Homeworks/.git/objects/04/e16e1e5344074ceb122701cdddd429138f7a7c\n",
      "/Users/anastasiavasileva/Desktop/Homeworks/.git/objects/11/1ebc3976a8e02c5b33fc23e9ab6b8753a328f6\n",
      "/Users/anastasiavasileva/Desktop/Homeworks/.git/objects/12/7846ccd38b97e1b22f7978c9aa71e24d8ef252\n",
      "/Users/anastasiavasileva/Desktop/Homeworks/.git/objects/18/8c3dfb554178d17bda285f0877b95e66d4c6a2\n",
      "/Users/anastasiavasileva/Desktop/Homeworks/.git/objects/3b/0708f401fec4167d694d2c200fd6658df15b7b\n",
      "/Users/anastasiavasileva/Desktop/Homeworks/.git/objects/50/e5cfa8e0bf17b2e1f0bb7f9e9463a1179893ce\n",
      "/Users/anastasiavasileva/Desktop/Homeworks/.git/objects/52/78fa2a074f31ffc37265012be67008592dc050\n",
      "/Users/anastasiavasileva/Desktop/Homeworks/.git/objects/60/7328d24cc2fbfc4407c5483692db609e95a4ba\n",
      "/Users/anastasiavasileva/Desktop/Homeworks/.git/objects/64/ec91eea1d0e74634dc1ad0cc839b9e3f688c7c\n",
      "/Users/anastasiavasileva/Desktop/Homeworks/.git/objects/65/c4afa9ecef6a426c6ffcd877312beefc170280\n",
      "/Users/anastasiavasileva/Desktop/Homeworks/.git/objects/6d/356eea2537a0c78097a301dc9d31e0b8559dc1\n",
      "/Users/anastasiavasileva/Desktop/Homeworks/.git/objects/81/1731e8dcbf54af46755fdf2ba06b6460db7edc\n",
      "/Users/anastasiavasileva/Desktop/Homeworks/.git/objects/82/6149f55e8ac40f7f1ad4470f1e89e9225cc853\n",
      "/Users/anastasiavasileva/Desktop/Homeworks/.git/objects/89/c15b4cdc305704bd209cc67d1fb8701615c3ad\n",
      "/Users/anastasiavasileva/Desktop/Homeworks/.git/objects/96/c6633d153fe05fd05ffc651d86390b1dbef118\n",
      "/Users/anastasiavasileva/Desktop/Homeworks/.git/objects/9a/88eff80795ea6cc6ccf259bbe5587f76c92301\n",
      "/Users/anastasiavasileva/Desktop/Homeworks/.git/objects/b4/61ea6049f8bec3be2d241bca8573d984412688\n",
      "/Users/anastasiavasileva/Desktop/Homeworks/.git/objects/bc/ce83e01f84f664959d24fe373a718939102796\n",
      "/Users/anastasiavasileva/Desktop/Homeworks/.git/objects/cc/7ef062b4f3155108c75bf0773d42ff1e0bdfe3\n",
      "/Users/anastasiavasileva/Desktop/Homeworks/.git/objects/cf/16d2dac5c474123f80bc6f9ab166676e5e8e90\n",
      "/Users/anastasiavasileva/Desktop/Homeworks/.git/objects/d2/7e5698bed84cf3abdc8132f02fd7ba9bc7ca2f\n",
      "/Users/anastasiavasileva/Desktop/Homeworks/.git/objects/de/0253e839c44085dd42b0091a8e30df3eca4d16\n",
      "/Users/anastasiavasileva/Desktop/Homeworks/.git/refs/heads/master\n",
      "/Users/anastasiavasileva/Desktop/Homeworks/.git/refs/remotes/origin/HEAD\n",
      "/Users/anastasiavasileva/Desktop/Homeworks/.git/refs/remotes/origin/master\n",
      "/Users/anastasiavasileva/Desktop/Homeworks/HW1/.DS_Store\n",
      "/Users/anastasiavasileva/Desktop/Homeworks/HW1/литературное произведение/.DS_Store\n",
      "/Users/anastasiavasileva/Desktop/Homeworks/HW1/литературное произведение/Дворянское гнездо.txt\n",
      "/Users/anastasiavasileva/Desktop/Homeworks/HW1/мемы/.DS_Store\n",
      "/Users/anastasiavasileva/Desktop/Homeworks/HW1/мемы/2018-06-11 00.09.52.jpg\n",
      "/Users/anastasiavasileva/Desktop/Homeworks/HW1/мемы/2018-06-11 00.10.10.jpg\n",
      "/Users/anastasiavasileva/Desktop/Homeworks/HW1/мемы/Снимок экрана 2018-05-12 в 17.45.45.png\n",
      "/Users/anastasiavasileva/Desktop/Homeworks/HW1/треки/Не плачь.mp3\n",
      "/Users/anastasiavasileva/Desktop/Homeworks/HW1/треки/Розовое вино.mp3\n",
      "/Users/anastasiavasileva/Desktop/Homeworks/HW9/фоточка.jpg\n"
     ]
    }
   ],
   "source": [
    "import os \n",
    "for root, dirs, files in os.walk('/Users/anastasiavasileva/Desktop/Homeworks'):\n",
    "    for name in files:\n",
    "        fullname = os.path.join(root,name)\n",
    "        print(fullname)\n"
   ]
  },
  {
   "cell_type": "code",
   "execution_count": 59,
   "metadata": {},
   "outputs": [
    {
     "name": "stdout",
     "output_type": "stream",
     "text": [
      "— Ах, Сергей Петрович, Сергей Петрович, как я подумаю, как нам, женщинам, нужно осторожно вести себя!\n",
      "<built-in method read of _io.TextIOWrapper object at 0x11280f558>\n"
     ]
    }
   ],
   "source": [
    "text = input ()\n",
    "\n",
    "with open('mystrs.txt', 'w', encoding='utf-8') as f:\n",
    "    f.write(text)\n",
    "\n",
    "    \n",
    "with open('mystrs.txt', 'r', encoding='utf-8') as f:\n",
    "    text = f.read\n",
    "    print(text)\n",
    "    "
   ]
  }
 ],
 "metadata": {
  "kernelspec": {
   "display_name": "Python 3",
   "language": "python",
   "name": "python3"
  },
  "language_info": {
   "codemirror_mode": {
    "name": "ipython",
    "version": 3
   },
   "file_extension": ".py",
   "mimetype": "text/x-python",
   "name": "python",
   "nbconvert_exporter": "python",
   "pygments_lexer": "ipython3",
   "version": "3.6.3"
  }
 },
 "nbformat": 4,
 "nbformat_minor": 2
}
