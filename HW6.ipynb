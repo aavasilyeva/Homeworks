{
 "cells": [
  {
   "cell_type": "code",
   "execution_count": 12,
   "metadata": {},
   "outputs": [
    {
     "name": "stdout",
     "output_type": "stream",
     "text": [
      "Биграмма нн встретилась 1 раз\n"
     ]
    }
   ],
   "source": [
    "text = \"абракадабра фокус покус десятка за курс немедленно появись\"\n",
    "spisok = []\n",
    "text1= [char for char in text if char !=\" \"]\n",
    "text1= \"\".join(text1)\n",
    "for i in range(len(text1)-1):\n",
    "    b=text1[i]+text1[i+1]\n",
    "    spisok.append(b)\n",
    "slovar={}\n",
    "for d in spisok: \n",
    "    if d in slovar:\n",
    "        slovar[d]+=1 \n",
    "    else:\n",
    "        slovar[d]=1\n",
    "for k,v in slovar.items():\n",
    "    if k[0]==k[1]:\n",
    "        print(\"Биграмма %s встретилась %s раз\" % (k,v))"
   ]
  },
  {
   "cell_type": "code",
   "execution_count": 13,
   "metadata": {
    "scrolled": true
   },
   "outputs": [
    {
     "name": "stdout",
     "output_type": "stream",
     "text": [
      "белый\n",
      "черный\n",
      "NO\n"
     ]
    }
   ],
   "source": [
    "word1 = input ()\n",
    "word2 = input ()\n",
    "letters1 = list(word1)\n",
    "letters2 = list(word2)\n",
    "if letters1[0] != letters2[-1]:\n",
    "    print (\"NO\")\n",
    "elif letters1 == letters2[: : -1]: \n",
    "    print (\"YES\")\n",
    "elif letters1 != letters2[: : -1]:\n",
    "    print (\"NO\")"
   ]
  }
 ],
 "metadata": {
  "kernelspec": {
   "display_name": "Python 3",
   "language": "python",
   "name": "python3"
  },
  "language_info": {
   "codemirror_mode": {
    "name": "ipython",
    "version": 3
   },
   "file_extension": ".py",
   "mimetype": "text/x-python",
   "name": "python",
   "nbconvert_exporter": "python",
   "pygments_lexer": "ipython3",
   "version": "3.6.3"
  }
 },
 "nbformat": 4,
 "nbformat_minor": 2
}
