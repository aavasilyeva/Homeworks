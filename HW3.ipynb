{
 "cells": [
  {
   "cell_type": "code",
   "execution_count": 2,
   "metadata": {},
   "outputs": [
    {
     "name": "stdout",
     "output_type": "stream",
     "text": [
      "   _~_       _~_       _~_       _~_       _~_       _~_       _~_       _~_       _~_       _~_       _~_    \n",
      "  (o o)     (o o)     (o o)     (o o)     (o o)     (o o)     (o o)     (o o)     (o o)     (o o)     (o o)   \n",
      " /  V  \\   /  V  \\   /  V  \\   /  V  \\   /  V  \\   /  V  \\   /  V  \\   /  V  \\   /  V  \\   /  V  \\   /  V  \\  \n",
      "/(  _  )\\ /(  _  )\\ /(  _  )\\ /(  _  )\\ /(  _  )\\ /(  _  )\\ /(  _  )\\ /(  _  )\\ /(  _  )\\ /(  _  )\\ /(  _  )\\ \n",
      "  ^^ ^^     ^^ ^^     ^^ ^^     ^^ ^^     ^^ ^^     ^^ ^^     ^^ ^^     ^^ ^^     ^^ ^^     ^^ ^^     ^^ ^^   \n"
     ]
    }
   ],
   "source": [
    "n = 11\n",
    "print ('   _~_    ' * n)\n",
    "print ('  (o o)   ' * n)\n",
    "print (' /  V  \\  ' * n)\n",
    "print ('/(  _  )\\ ' * n)\n",
    "print ('  ^^ ^^   ' * n) "
   ]
  },
  {
   "cell_type": "code",
   "execution_count": 9,
   "metadata": {},
   "outputs": [
    {
     "name": "stdout",
     "output_type": "stream",
     "text": [
      "вася ест пони\n",
      "3\n"
     ]
    }
   ],
   "source": [
    "s = input()\n",
    "s = s.split()\n",
    "l = len(s)\n",
    "print(l)"
   ]
  },
  {
   "cell_type": "code",
   "execution_count": 13,
   "metadata": {},
   "outputs": [
    {
     "name": "stdout",
     "output_type": "stream",
     "text": [
      "вася ест пони\n",
      "3\n"
     ]
    }
   ],
   "source": [
    "s = input()\n",
    "count = 0\n",
    "b = 0\n",
    "for i in range(len(s)):\n",
    "    if s[i] != ' ' and b == 0:\n",
    "        count += 1\n",
    "        b = 1\n",
    "    else:\n",
    "        if s[i] == ' ':\n",
    "            b = 0\n",
    "print(count)"
   ]
  },
  {
   "cell_type": "code",
   "execution_count": 14,
   "metadata": {},
   "outputs": [
    {
     "name": "stdout",
     "output_type": "stream",
     "text": [
      "вася\n",
      "ест\n",
      "пони\n",
      "васяестпони\n"
     ]
    }
   ],
   "source": [
    "s1 = input ()\n",
    "s2 = input ()\n",
    "s3 = input ()\n",
    "print (s1 + s2 + s3)"
   ]
  },
  {
   "cell_type": "code",
   "execution_count": null,
   "metadata": {
    "collapsed": true
   },
   "outputs": [],
   "source": []
  }
 ],
 "metadata": {
  "kernelspec": {
   "display_name": "Python 3",
   "language": "python",
   "name": "python3"
  },
  "language_info": {
   "codemirror_mode": {
    "name": "ipython",
    "version": 3
   },
   "file_extension": ".py",
   "mimetype": "text/x-python",
   "name": "python",
   "nbconvert_exporter": "python",
   "pygments_lexer": "ipython3",
   "version": "3.6.3"
  }
 },
 "nbformat": 4,
 "nbformat_minor": 2
}
